{
 "cells": [
  {
   "cell_type": "code",
   "execution_count": 1,
   "metadata": {},
   "outputs": [],
   "source": [
    "import pandas as pd\n",
    "import pickle"
   ]
  },
  {
   "cell_type": "code",
   "execution_count": 2,
   "metadata": {},
   "outputs": [],
   "source": [
    "# ------------------------------------135TCB_CB--------------------\n",
    "DF = pd.DataFrame([(50, 50, 0.1),\n",
    "                   (50, 50, 0.1),\n",
    "                   (50, 50, 0.5),\n",
    "                   (50, 50, 0.5),\n",
    "                   (50, 50, 1),\n",
    "                   (50, 50, 1),     #6\n",
    "                   (75, 50, 0.1),\n",
    "                   (75, 50, 0.1),\n",
    "                   (30, 50, 0.1),\n",
    "                   (30, 50, 0.1),\n",
    "                   (15, 50, 0.1),\n",
    "                   (15, 50, 0.1),\n",
    "                   (100, 50, 0.1),\n",
    "                   (100, 50, 0.1), #14\n",
    "                   (15, 50, 0.5),\n",
    "                   (15, 50, 0.5),\n",
    "                   (15, 50, 1),\n",
    "                   (15, 50, 1),\n",
    "                   (0, 0, 0),      #19\n",
    "                   (5, 50, 0.1),\n",
    "                   (5, 50, 0.1),\n",
    "                   (50, 30, 0.1),\n",
    "                   (50, 30, 0.1),\n",
    "                   (50, 15, 0.1),\n",
    "                   (50, 15, 0.1),  #25\n",
    "                   (30, 30, 0.1),\n",
    "                   (30, 30, 0.1),\n",
    "                   (15, 30, 0.1),\n",
    "                   (15, 30, 0.1),  #29\n",
    "                   (30, 70, 0.1),\n",
    "                   (30, 70, 0.1),\n",
    "                   (15, 70, 0.1),\n",
    "                   (15, 70, 0.1),\n",
    "                   (5, 70, 0.1),\n",
    "                   (5, 70, 0.1),\n",
    "                   (75, 70, 0.1),\n",
    "                   (75, 70, 0.1)],\n",
    "                   columns = (\"GapSize\", \"InkAmount\", \"Speed\"))\n",
    "AlignmentDataFrames = {}\n",
    "key = '135TCB_CB'\n",
    "AlignmentDataFrames[key] = DF\n",
    "\n",
    "# ------------------------------------135TCB_chcl3-----------------\n",
    "DF = pd.DataFrame([(30, 50, 0.1),\n",
    "                   (30, 50, 0.1),\n",
    "                   (30, 50, 1),\n",
    "                   (30, 50, 1),\n",
    "                   (30, 50, 0.5),\n",
    "                   (30, 50, 0.5), \n",
    "                   (30, 50, 2),\n",
    "                   (30, 50, 2),   #8\n",
    "                   (15, 50, 2),\n",
    "                   (15, 50, 2),\n",
    "                   (15, 75, 2),\n",
    "                   (15, 75, 2),   #12\n",
    "                   (5, 75, 2),\n",
    "                   (5, 75, 2), \n",
    "                   (10, 75, 2),\n",
    "                   (10, 75, 2),   #16\n",
    "                   (30, 100, 2),\n",
    "                   (30, 100, 2),\n",
    "                   (10, 75, 2)],\n",
    "                   columns = (\"GapSize\", \"InkAmount\", \"Speed\"))\n",
    "AlignmentDataFrames = {}\n",
    "key = '135TCB_chcl3'  # that's a L\n",
    "AlignmentDataFrames[key] = DF\n",
    "\n"
   ]
  },
  {
   "cell_type": "code",
   "execution_count": 3,
   "metadata": {},
   "outputs": [],
   "source": [
    "pickle.dump(AlignmentDataFrames, open('AlignmentDataFrames.p', 'wb'))"
   ]
  },
  {
   "cell_type": "code",
   "execution_count": null,
   "metadata": {},
   "outputs": [],
   "source": []
  }
 ],
 "metadata": {
  "kernelspec": {
   "display_name": "Python 3",
   "language": "python",
   "name": "python3"
  },
  "language_info": {
   "codemirror_mode": {
    "name": "ipython",
    "version": 3
   },
   "file_extension": ".py",
   "mimetype": "text/x-python",
   "name": "python",
   "nbconvert_exporter": "python",
   "pygments_lexer": "ipython3",
   "version": "3.7.3"
  }
 },
 "nbformat": 4,
 "nbformat_minor": 2
}
