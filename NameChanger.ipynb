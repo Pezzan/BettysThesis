{
 "cells": [
  {
   "cell_type": "code",
   "execution_count": 17,
   "metadata": {},
   "outputs": [],
   "source": [
    "import os\n",
    "import numpy as np"
   ]
  },
  {
   "cell_type": "code",
   "execution_count": 18,
   "metadata": {},
   "outputs": [],
   "source": [
    "# be carefull to data named for example \"...sample6_2.*\""
   ]
  },
  {
   "cell_type": "code",
   "execution_count": 20,
   "metadata": {},
   "outputs": [
    {
     "ename": "FileNotFoundError",
     "evalue": "[Errno 2] No such file or directory: 'For_ANALYSIS/123TCB_CB/figures/123TCB_CB_sample_74.jpg' -> 'For_ANALYSIS/123TCB_CB/figures/123TCB_CB_sample1.jpg'",
     "output_type": "error",
     "traceback": [
      "\u001b[0;31m---------------------------------------------------------------------------\u001b[0m",
      "\u001b[0;31mFileNotFoundError\u001b[0m                         Traceback (most recent call last)",
      "\u001b[0;32m<ipython-input-20-5d4673e56b32>\u001b[0m in \u001b[0;36m<module>\u001b[0;34m\u001b[0m\n\u001b[1;32m     36\u001b[0m         \u001b[0mnewName\u001b[0m \u001b[0;34m=\u001b[0m \u001b[0mitem\u001b[0m\u001b[0;34m[\u001b[0m\u001b[0;36m0\u001b[0m\u001b[0;34m:\u001b[0m \u001b[0midxup\u001b[0m\u001b[0;34m+\u001b[0m\u001b[0;36m6\u001b[0m\u001b[0;34m]\u001b[0m \u001b[0;34m+\u001b[0m \u001b[0mstr\u001b[0m\u001b[0;34m(\u001b[0m\u001b[0mactNum\u001b[0m\u001b[0;34m)\u001b[0m \u001b[0;34m+\u001b[0m \u001b[0;34m'.jpg'\u001b[0m\u001b[0;34m\u001b[0m\u001b[0;34m\u001b[0m\u001b[0m\n\u001b[1;32m     37\u001b[0m         os.rename(folder + f + '/' + 'figures/' + item, \n\u001b[0;32m---> 38\u001b[0;31m                   folder + f + '/' + 'figures/' + newName)\n\u001b[0m\u001b[1;32m     39\u001b[0m \u001b[0;34m\u001b[0m\u001b[0m\n",
      "\u001b[0;31mFileNotFoundError\u001b[0m: [Errno 2] No such file or directory: 'For_ANALYSIS/123TCB_CB/figures/123TCB_CB_sample_74.jpg' -> 'For_ANALYSIS/123TCB_CB/figures/123TCB_CB_sample1.jpg'"
     ]
    }
   ],
   "source": [
    "folder = \"For_ANALYSIS/\"\n",
    "listOfFolds = os.listdir(folder)\n",
    "listOfFolds.remove('.DS_Store')\n",
    "#print(listOfFolds)\n",
    "\n",
    "for f in listOfFolds:\n",
    "    listOfFiles = os.listdir(folder + f + '/')\n",
    "    listOfFiles.remove('.DS_Store')\n",
    "    if os.path.isdir(folder + f + '/' + 'figures/'):\n",
    "        listOfFiles.remove('figures')\n",
    "    #print(listOfFiles)\n",
    "    listOfNums = []\n",
    "    for item in listOfFiles:\n",
    "        idxup = item.find(\"sample\")\n",
    "        idxdown = item.find(\".\")\n",
    "        numStr = item[idxup+6 : idxdown]\n",
    "        if (numStr[0] == '_'):\n",
    "            numStr = numStr[1:]\n",
    "        elif (len(numStr) > 1):\n",
    "            if (numStr[1] == '_'):\n",
    "                numStr = numStr[0]\n",
    "        numStr = int(numStr)\n",
    "        listOfNums.append(numStr)\n",
    "        \n",
    "    for item in listOfFiles:\n",
    "        idxup = item.find(\"sample\")\n",
    "        idxdown = item.find(\".\")\n",
    "        numStr = item[idxup+6 : idxdown]\n",
    "        if (numStr[0] == '_'):\n",
    "            numStr = numStr[1:]\n",
    "        elif (len(numStr) > 1):\n",
    "            if (numStr[1] == '_'):\n",
    "                numStr = numStr[0]\n",
    "        numStr = int(numStr)\n",
    "        actNum = numStr - np.min(listOfNums) + 1\n",
    "        newName = item[0: idxup+6] + str(actNum) + '.jpg'\n",
    "        os.rename(folder + f + '/' + item, \n",
    "                  folder + f + '/' + newName)\n",
    "        "
   ]
  },
  {
   "cell_type": "code",
   "execution_count": null,
   "metadata": {},
   "outputs": [],
   "source": []
  }
 ],
 "metadata": {
  "kernelspec": {
   "display_name": "Python 3",
   "language": "python",
   "name": "python3"
  },
  "language_info": {
   "codemirror_mode": {
    "name": "ipython",
    "version": 3
   },
   "file_extension": ".py",
   "mimetype": "text/x-python",
   "name": "python",
   "nbconvert_exporter": "python",
   "pygments_lexer": "ipython3",
   "version": "3.7.3"
  }
 },
 "nbformat": 4,
 "nbformat_minor": 2
}
