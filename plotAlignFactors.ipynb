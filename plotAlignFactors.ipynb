{
 "cells": [
  {
   "cell_type": "code",
   "execution_count": 1,
   "metadata": {},
   "outputs": [],
   "source": [
    "import dill\n",
    "import numpy as np\n",
    "import pandas as pd\n",
    "import matplotlib.pyplot as plt"
   ]
  },
  {
   "cell_type": "code",
   "execution_count": 11,
   "metadata": {},
   "outputs": [],
   "source": [
    "name = \"123TCB_CB\" # choose the name if you did not run the previous cells\n",
    "    \n",
    "dill.load_session('notebook_' + name + '.db')\n",
    "\n",
    "tempdf = pickle.load(open('AlignmentDataFrames.p','rb'))"
   ]
  },
  {
   "cell_type": "code",
   "execution_count": 12,
   "metadata": {},
   "outputs": [],
   "source": [
    "tempdf[name]['Alignment'] = AlignVec[0:len(tempdf[name]['GapSize'])]\n",
    "\n",
    "adf = tempdf[name]"
   ]
  },
  {
   "cell_type": "code",
   "execution_count": 13,
   "metadata": {},
   "outputs": [
    {
     "name": "stdout",
     "output_type": "stream",
     "text": [
      "   GapSize  InkAmount  Speed  Alignment\n",
      "0       30         50    0.1   0.415425\n",
      "1       30         50    0.1   0.596229\n",
      "2       15         50    0.1   0.593643\n",
      "3       15         50    0.1   0.471050\n",
      "4       15         75    0.1   0.487645\n",
      "5       15         75    0.1   0.547964\n",
      "6       15         75    1.0   0.613957\n",
      "7       15         75    0.1   0.721350\n",
      "8       15         75    0.1   0.765718\n",
      "\n",
      "\n",
      "And the winner is...\n",
      "\n",
      "   GapSize  InkAmount  Speed  Alignment\n",
      "0       30         50    0.1   0.415425\n",
      "3       15         50    0.1   0.471050\n",
      "4       15         75    0.1   0.487645\n",
      "5       15         75    0.1   0.547964\n",
      "2       15         50    0.1   0.593643\n",
      "1       30         50    0.1   0.596229\n",
      "6       15         75    1.0   0.613957\n",
      "7       15         75    0.1   0.721350\n",
      "8       15         75    0.1   0.765718\n"
     ]
    }
   ],
   "source": [
    "print(adf)\n",
    "\n",
    "sortedadf = adf.sort_values('Alignment')\n",
    "print('\\n\\nAnd the winner is...\\n')\n",
    "print(sortedadf)\n",
    "\n",
    "#best = adf.loc[adf['Alignment'] == np.min(adf['Alignment'])]\n",
    "#print('\\n\\nAnd the winner is...\\n')\n",
    "#print(best)\n",
    "#minVec = np.array(adf['Alignment'])\n",
    "#minVec = np.delete(minVec, np.where(minVec == np.min(minVec)))\n",
    "#second = adf.loc[adf['Alignment'] == np.min(minVec)]\n",
    "#print('\\n\\nSecond place to\\n')\n",
    "#print(second)\n",
    "\n",
    "#minVec = np.delete(minVec, np.where(minVec == np.min(minVec)))\n",
    "#third = adf.loc[adf['Alignment'] == np.min(minVec)]\n",
    "#print('\\n\\nThird place to\\n')\n",
    "#print(third)"
   ]
  },
  {
   "cell_type": "code",
   "execution_count": 2,
   "metadata": {},
   "outputs": [
    {
     "ename": "FileNotFoundError",
     "evalue": "[Errno 2] No such file or directory: 'notebook_1245TCB_CB.db'",
     "output_type": "error",
     "traceback": [
      "\u001b[0;31m---------------------------------------------------------------------------\u001b[0m",
      "\u001b[0;31mFileNotFoundError\u001b[0m                         Traceback (most recent call last)",
      "\u001b[0;32m<ipython-input-2-bada7f3fcbd3>\u001b[0m in \u001b[0;36m<module>\u001b[0;34m\u001b[0m\n\u001b[1;32m      3\u001b[0m \u001b[0;34m\u001b[0m\u001b[0m\n\u001b[1;32m      4\u001b[0m \u001b[0;32mfor\u001b[0m \u001b[0mname\u001b[0m \u001b[0;32min\u001b[0m \u001b[0mnamesVec\u001b[0m\u001b[0;34m:\u001b[0m\u001b[0;34m\u001b[0m\u001b[0;34m\u001b[0m\u001b[0m\n\u001b[0;32m----> 5\u001b[0;31m     \u001b[0mdill\u001b[0m\u001b[0;34m.\u001b[0m\u001b[0mload_session\u001b[0m\u001b[0;34m(\u001b[0m\u001b[0;34m'notebook_'\u001b[0m \u001b[0;34m+\u001b[0m \u001b[0mname\u001b[0m \u001b[0;34m+\u001b[0m \u001b[0;34m'.db'\u001b[0m\u001b[0;34m)\u001b[0m\u001b[0;34m\u001b[0m\u001b[0;34m\u001b[0m\u001b[0m\n\u001b[0m\u001b[1;32m      6\u001b[0m     \u001b[0mtempdf\u001b[0m \u001b[0;34m=\u001b[0m \u001b[0mpickle\u001b[0m\u001b[0;34m.\u001b[0m\u001b[0mload\u001b[0m\u001b[0;34m(\u001b[0m\u001b[0mopen\u001b[0m\u001b[0;34m(\u001b[0m\u001b[0;34m'AlignmentDataFrames.p'\u001b[0m\u001b[0;34m,\u001b[0m\u001b[0;34m'rb'\u001b[0m\u001b[0;34m)\u001b[0m\u001b[0;34m)\u001b[0m\u001b[0;34m\u001b[0m\u001b[0;34m\u001b[0m\u001b[0m\n\u001b[1;32m      7\u001b[0m     \u001b[0mtempdf\u001b[0m\u001b[0;34m[\u001b[0m\u001b[0mname\u001b[0m\u001b[0;34m]\u001b[0m\u001b[0;34m[\u001b[0m\u001b[0;34m'Alignment'\u001b[0m\u001b[0;34m]\u001b[0m \u001b[0;34m=\u001b[0m \u001b[0mAlignVec\u001b[0m\u001b[0;34m[\u001b[0m\u001b[0;36m0\u001b[0m\u001b[0;34m:\u001b[0m\u001b[0mlen\u001b[0m\u001b[0;34m(\u001b[0m\u001b[0mtempdf\u001b[0m\u001b[0;34m[\u001b[0m\u001b[0mname\u001b[0m\u001b[0;34m]\u001b[0m\u001b[0;34m[\u001b[0m\u001b[0;34m'GapSize'\u001b[0m\u001b[0;34m]\u001b[0m\u001b[0;34m)\u001b[0m\u001b[0;34m]\u001b[0m\u001b[0;34m\u001b[0m\u001b[0;34m\u001b[0m\u001b[0m\n",
      "\u001b[0;32m/anaconda3/lib/python3.7/site-packages/dill/_dill.py\u001b[0m in \u001b[0;36mload_session\u001b[0;34m(filename, main)\u001b[0m\n\u001b[1;32m    403\u001b[0m         \u001b[0mf\u001b[0m \u001b[0;34m=\u001b[0m \u001b[0mfilename\u001b[0m\u001b[0;34m\u001b[0m\u001b[0;34m\u001b[0m\u001b[0m\n\u001b[1;32m    404\u001b[0m     \u001b[0;32melse\u001b[0m\u001b[0;34m:\u001b[0m\u001b[0;34m\u001b[0m\u001b[0;34m\u001b[0m\u001b[0m\n\u001b[0;32m--> 405\u001b[0;31m         \u001b[0mf\u001b[0m \u001b[0;34m=\u001b[0m \u001b[0mopen\u001b[0m\u001b[0;34m(\u001b[0m\u001b[0mfilename\u001b[0m\u001b[0;34m,\u001b[0m \u001b[0;34m'rb'\u001b[0m\u001b[0;34m)\u001b[0m\u001b[0;34m\u001b[0m\u001b[0;34m\u001b[0m\u001b[0m\n\u001b[0m\u001b[1;32m    406\u001b[0m     \u001b[0;32mtry\u001b[0m\u001b[0;34m:\u001b[0m\u001b[0;34m\u001b[0m\u001b[0;34m\u001b[0m\u001b[0m\n\u001b[1;32m    407\u001b[0m         \u001b[0munpickler\u001b[0m \u001b[0;34m=\u001b[0m \u001b[0mUnpickler\u001b[0m\u001b[0;34m(\u001b[0m\u001b[0mf\u001b[0m\u001b[0;34m)\u001b[0m\u001b[0;34m\u001b[0m\u001b[0;34m\u001b[0m\u001b[0m\n",
      "\u001b[0;31mFileNotFoundError\u001b[0m: [Errno 2] No such file or directory: 'notebook_1245TCB_CB.db'"
     ]
    }
   ],
   "source": [
    "namesVec = ['1245TCB_CB', '135TBB_CB', '123TCB_CB', '1234TCB_CB', 'HMB_CB']\n",
    "DF = pd.DataFrame()\n",
    "\n",
    "for name in namesVec:\n",
    "    dill.load_session('notebook_' + name + '.db')\n",
    "    tempdf = pickle.load(open('AlignmentDataFrames.p','rb'))\n",
    "    tempdf[name]['Alignment'] = AlignVec[0:len(tempdf[name]['GapSize'])]\n",
    "    adf = tempdf[name]\n",
    "    \n",
    "    best = adf.loc[adf['Alignment'] == np.min(adf['Alignment'])]\n",
    "    best['Name'] = name\n",
    "    DF = DF.append(best, ignore_index=True)\n",
    "    \n",
    "    minVec = np.array(adf['Alignment'])\n",
    "    minVec = np.delete(minVec, np.where(minVec == np.min(minVec)))\n",
    "    second = adf.loc[adf['Alignment'] == np.min(minVec)]\n",
    "    second['Name'] = name\n",
    "    DF = DF.append(second, ignore_index=True)\n",
    "\n",
    "#DF = DF.set_index('Name')\n",
    "print(DF)\n",
    "    "
   ]
  },
  {
   "cell_type": "code",
   "execution_count": 60,
   "metadata": {},
   "outputs": [
    {
     "data": {
      "image/png": "[encoded data removed]",
      "text/plain": [
       "<Figure size 720x504 with 1 Axes>"
      ]
     },
     "metadata": {
      "needs_background": "light"
     },
     "output_type": "display_data"
    }
   ],
   "source": [
    "plt.figure(figsize=(10,7))\n",
    "plt.scatter(DF.index.values, DF['Alignment'],  marker='^', s=300)\n",
    "my_xticks = DF['Name']\n",
    "plt.xticks(DF.index.values, my_xticks, rotation=60, fontsize=16)\n",
    "plt.yticks(fontsize=16)\n",
    "plt.title('Alignment factors', fontsize=20)\n",
    "plt.grid()\n",
    "plt.savefig('AlignFactor1.png')\n",
    "plt.show()\n"
   ]
  },
  {
   "cell_type": "code",
   "execution_count": null,
   "metadata": {},
   "outputs": [],
   "source": []
  }
 ],
 "metadata": {
  "kernelspec": {
   "display_name": "Python 3",
   "language": "python",
   "name": "python3"
  },
  "language_info": {
   "codemirror_mode": {
    "name": "ipython",
    "version": 3
   },
   "file_extension": ".py",
   "mimetype": "text/x-python",
   "name": "python",
   "nbconvert_exporter": "python",
   "pygments_lexer": "ipython3",
   "version": "3.7.3"
  }
 },
 "nbformat": 4,
 "nbformat_minor": 2
}
