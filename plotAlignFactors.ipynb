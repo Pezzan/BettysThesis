{
 "cells": [
  {
   "cell_type": "code",
   "execution_count": 21,
   "metadata": {},
   "outputs": [],
   "source": [
    "import dill\n",
    "import numpy as np\n",
    "import pandas as pd\n",
    "import matplotlib.pyplot as plt"
   ]
  },
  {
   "cell_type": "code",
   "execution_count": 22,
   "metadata": {},
   "outputs": [],
   "source": [
    "name = \"123TCB_CB\" # choose the name \n",
    "    \n",
    "dill.load_session('notebook_' + name + '.db')\n",
    "\n",
    "tempdf = pickle.load(open('AlignmentDataFrames.p','rb'))"
   ]
  },
  {
   "cell_type": "code",
   "execution_count": 23,
   "metadata": {},
   "outputs": [],
   "source": [
    "tempdf[name]['Alignment'] = AlignVec[0:len(tempdf[name]['GapSize'])]\n",
    "\n",
    "adf = tempdf[name]"
   ]
  },
  {
   "cell_type": "code",
   "execution_count": 24,
   "metadata": {},
   "outputs": [
    {
     "name": "stdout",
     "output_type": "stream",
     "text": [
      "   GapSize  InkAmount  Speed  Alignment\n",
      "0       30         50    0.1   0.415425\n",
      "1       30         50    0.1   0.596229\n",
      "2       15         50    0.1   0.593643\n",
      "3       15         50    0.1   0.471050\n",
      "4       15         75    0.1   0.487645\n",
      "5       15         75    0.1   0.547964\n",
      "6       15         75    1.0   0.613957\n",
      "7       15         75    0.1   0.721350\n",
      "8       15         75    0.1   0.765718\n",
      "\n",
      "\n",
      "And the winner is...\n",
      "\n",
      "   GapSize  InkAmount  Speed  Alignment\n",
      "0       30         50    0.1   0.415425\n",
      "3       15         50    0.1   0.471050\n",
      "4       15         75    0.1   0.487645\n",
      "5       15         75    0.1   0.547964\n",
      "2       15         50    0.1   0.593643\n",
      "1       30         50    0.1   0.596229\n",
      "6       15         75    1.0   0.613957\n",
      "7       15         75    0.1   0.721350\n",
      "8       15         75    0.1   0.765718\n"
     ]
    }
   ],
   "source": [
    "print(adf)\n",
    "\n",
    "sortedadf = adf.sort_values('Alignment')\n",
    "print('\\n\\nAnd the winner is...\\n')\n",
    "print(sortedadf)\n",
    "\n",
    "#best = adf.loc[adf['Alignment'] == np.min(adf['Alignment'])]\n",
    "#print('\\n\\nAnd the winner is...\\n')\n",
    "#print(best)\n",
    "#minVec = np.array(adf['Alignment'])\n",
    "#minVec = np.delete(minVec, np.where(minVec == np.min(minVec)))\n",
    "#second = adf.loc[adf['Alignment'] == np.min(minVec)]\n",
    "#print('\\n\\nSecond place to\\n')\n",
    "#print(second)\n",
    "\n",
    "#minVec = np.delete(minVec, np.where(minVec == np.min(minVec)))\n",
    "#third = adf.loc[adf['Alignment'] == np.min(minVec)]\n",
    "#print('\\n\\nThird place to\\n')\n",
    "#print(third)"
   ]
  },
  {
   "cell_type": "code",
   "execution_count": 37,
   "metadata": {},
   "outputs": [
    {
     "name": "stderr",
     "output_type": "stream",
     "text": [
      "/anaconda3/lib/python3.7/site-packages/ipykernel_launcher.py:13: SettingWithCopyWarning: \n",
      "A value is trying to be set on a copy of a slice from a DataFrame.\n",
      "Try using .loc[row_indexer,col_indexer] = value instead\n",
      "\n",
      "See the caveats in the documentation: http://pandas.pydata.org/pandas-docs/stable/indexing.html#indexing-view-versus-copy\n",
      "  del sys.path[0]\n",
      "/anaconda3/lib/python3.7/site-packages/ipykernel_launcher.py:19: SettingWithCopyWarning: \n",
      "A value is trying to be set on a copy of a slice from a DataFrame.\n",
      "Try using .loc[row_indexer,col_indexer] = value instead\n",
      "\n",
      "See the caveats in the documentation: http://pandas.pydata.org/pandas-docs/stable/indexing.html#indexing-view-versus-copy\n"
     ]
    },
    {
     "name": "stdout",
     "output_type": "stream",
     "text": [
      "   GapSize  InkAmount  Speed  Alignment           Name\n",
      "0       50         50    0.1   0.227141      135TCB_CB\n",
      "1       10         75    2.0   0.226822   135TCB_chcl3\n",
      "2       50         50    0.1   0.739182  135TCB_diheth\n",
      "3       30         75    0.1   0.765725    135TCB_2oct\n",
      "4       30         75    0.1   0.747213    135TCB_2dec\n",
      "5       30         50    0.1   0.665349    135TCB_4eth\n"
     ]
    }
   ],
   "source": [
    "#namesVec = ['1245TCB_CB', '135TBB_CB', '123TCB_CB', '1234TCB_CB', 'HMB_CB']\n",
    "namesVec = ['135TCB_CB', '135TCB_chcl3', '135TCB_diheth', '135TCB_2oct', '135TCB_2dec', '135TCB_4eth']\n",
    "\n",
    "DF = pd.DataFrame()\n",
    "\n",
    "for name in namesVec:\n",
    "    dill.load_session('notebook_' + name + '.db')\n",
    "    tempdf = pickle.load(open('AlignmentDataFrames.p','rb'))\n",
    "    tempdf[name]['Alignment'] = AlignVec[0:len(tempdf[name]['GapSize'])]\n",
    "    adf = tempdf[name]\n",
    "    \n",
    "    best = adf.loc[adf['Alignment'] == np.min(adf['Alignment'])]\n",
    "    best['Name'] = name\n",
    "    DF = DF.append(best, ignore_index=True)\n",
    "    \n",
    "    minVec = np.array(adf['Alignment'])\n",
    "    minVec = np.delete(minVec, np.where(minVec == np.min(minVec)))\n",
    "    second = adf.loc[adf['Alignment'] == np.min(minVec)]\n",
    "    second['Name'] = name\n",
    "    #DF = DF.append(second, ignore_index=True)\n",
    "\n",
    "#DF = DF.set_index('Name')\n",
    "print(DF)\n",
    "    "
   ]
  },
  {
   "cell_type": "code",
   "execution_count": 42,
   "metadata": {},
   "outputs": [
    {
     "data": {
      "image/png": "[encoded data removed]",
      "text/plain": [
       "<Figure size 720x504 with 1 Axes>"
      ]
     },
     "metadata": {
      "needs_background": "light"
     },
     "output_type": "display_data"
    }
   ],
   "source": [
    "plt.figure(figsize=(10,7))\n",
    "#xs = [0, 0, 1, 1, 2, 2, 3, 3, 4, 4, 5, 5]\n",
    "xs = np.arange(6)\n",
    "plt.scatter(xs, DF['Alignment'],  marker='^', s=300, color='g')\n",
    "my_xticks = ['Chlorobenzene', 'Chlorobenzene', 'Chloroform',\n",
    "             'Chloroform', 'Dihexyl Ether', 'Dihexyl Ether',\n",
    "             '2-Octanone', '2-Octanone', '2-Decanone', '2-Decanone',\n",
    "             '4-Ethylcyclohexane', '4-Ethylcyclohexane']\n",
    "plt.xticks(xs, my_xticks, rotation=60, fontsize=16)\n",
    "plt.yticks(fontsize=16)\n",
    "plt.title('Alignment factors', fontsize=20)\n",
    "i = 0\n",
    "for i in range(len(xs)):\n",
    "    s = '[%d %d %.2g]' % (DF['GapSize'][i], DF['InkAmount'][i], DF['Speed'][i])\n",
    "    if i % 2 == 0:\n",
    "        de = 0.04\n",
    "    else: de = 0.04\n",
    "    plt.text(xs[i] - 0.3, DF['Alignment'][i] - de, s, fontsize=12)\n",
    "    i += 1\n",
    "plt.grid()\n",
    "plt.savefig('figures/AlignFactor2.png')\n",
    "plt.show()\n"
   ]
  },
  {
   "cell_type": "code",
   "execution_count": 7,
   "metadata": {},
   "outputs": [],
   "source": [
    "folder = 'Analysis_2ndpart/different_C/'\n",
    "name = \"123TCB_CB\" # choose the name \n",
    "    \n",
    "dill.load_session(folder + 'notebook_' + name + '.db')\n",
    "\n",
    "tempdf = pickle.load(open('AlignmentDataFramesPS.p','rb'))"
   ]
  },
  {
   "cell_type": "code",
   "execution_count": 8,
   "metadata": {},
   "outputs": [],
   "source": [
    "tempdf[name]['Alignment'] = AlignVec[0:len(tempdf[name]['GapSize'])]\n",
    "\n",
    "adf = tempdf[name]"
   ]
  },
  {
   "cell_type": "code",
   "execution_count": 9,
   "metadata": {},
   "outputs": [
    {
     "name": "stdout",
     "output_type": "stream",
     "text": [
      "    GapSize  InkAmount  Speed   PS  Alignment\n",
      "0        30         50    0.1  100   0.229080\n",
      "1        30         50    0.1  100   0.342338\n",
      "2        15         50    0.1  100   0.207135\n",
      "3        15         50    0.1  100   0.187526\n",
      "4         5         50    0.1  100   0.112497\n",
      "5         5         50    0.1  100   0.224994\n",
      "6         5         30    0.1  100   0.112590\n",
      "7         5         30    0.1  100   0.130875\n",
      "8         5         75    0.1  100   0.327808\n",
      "9         5         75    0.1  100   0.277444\n",
      "10        5         50    0.5  100   0.288684\n",
      "11        5         50    0.5  100   0.167735\n",
      "12        5         50    0.1   50   0.180848\n",
      "13        5         50    0.1   50   0.137851\n",
      "14        5         75    0.1   50   0.180495\n",
      "15        5         75    0.1   50   0.135714\n",
      "16        5         30    0.1   50   0.114206\n",
      "17        5         30    0.1   50   0.167964\n",
      "18       15         50    0.1   50   0.157161\n",
      "19       15         50    0.1   50   0.208841\n",
      "20       30         50    0.1   50   0.264492\n",
      "21       30         50    0.1   50   0.155343\n",
      "22       15         75    0.1   50   0.146091\n",
      "23       15         75    0.1   50   0.128088\n",
      "24       30         50    0.1   10   0.855535\n",
      "25       30         50    0.1   10   0.874529\n",
      "26       15         50    0.1   10   0.936318\n",
      "27       15         50    0.1   10   0.807307\n",
      "28        5         50    0.1   10   0.871974\n",
      "29        5         50    0.1   10   0.816020\n",
      "..      ...        ...    ...  ...        ...\n",
      "32        5         15    0.1   10   0.436585\n",
      "33        5         15    0.1   10   0.696355\n",
      "34        5         15    0.5   10   0.549251\n",
      "35        5         15    0.5   10   0.845365\n",
      "36        5         15    1.0   10   0.750890\n",
      "37        5         15    1.0   10   0.587489\n",
      "38        5         15    2.0   10   0.735630\n",
      "39        5         15    2.0   10   0.861102\n",
      "40        5         30    0.5   10   0.377421\n",
      "41        5         30    0.5   10   0.666460\n",
      "42        5          7    0.5   10   1.000000\n",
      "43        5          7    0.5   10   1.000000\n",
      "44       30         50    0.1    1   1.000000\n",
      "45       30         50    0.1    1   0.565492\n",
      "46        5         50    0.1    1   0.904614\n",
      "47        5         50    0.1    1   0.940109\n",
      "48        5         30    0.5    1   0.507357\n",
      "49        5         30    0.5    1   0.588628\n",
      "50        5         15    0.5    1   0.780922\n",
      "51        5         15    0.5    1   0.548740\n",
      "52        5          7    0.5    1   0.604990\n",
      "53        5          7    0.5    1   0.627887\n",
      "54        5          7    1.0    1   0.815141\n",
      "55        5          7    1.0    1   0.753969\n",
      "56        5         15    0.1    1   0.431055\n",
      "57        5         15    0.1    1   0.362842\n",
      "58        5          7    0.1    1   0.503136\n",
      "59        5          7    0.1    1   0.246857\n",
      "60        5          3    0.5    1   0.599294\n",
      "61        5          3    0.5    1   0.531745\n",
      "\n",
      "[62 rows x 5 columns]\n",
      "\n",
      "\n",
      "And the winner is...\n",
      "\n",
      "    GapSize  InkAmount  Speed   PS  Alignment\n",
      "4         5         50    0.1  100   0.112497\n",
      "6         5         30    0.1  100   0.112590\n",
      "16        5         30    0.1   50   0.114206\n",
      "23       15         75    0.1   50   0.128088\n",
      "7         5         30    0.1  100   0.130875\n",
      "15        5         75    0.1   50   0.135714\n",
      "13        5         50    0.1   50   0.137851\n",
      "22       15         75    0.1   50   0.146091\n",
      "21       30         50    0.1   50   0.155343\n",
      "18       15         50    0.1   50   0.157161\n",
      "11        5         50    0.5  100   0.167735\n",
      "17        5         30    0.1   50   0.167964\n",
      "14        5         75    0.1   50   0.180495\n",
      "12        5         50    0.1   50   0.180848\n",
      "3        15         50    0.1  100   0.187526\n",
      "2        15         50    0.1  100   0.207135\n",
      "19       15         50    0.1   50   0.208841\n",
      "5         5         50    0.1  100   0.224994\n",
      "0        30         50    0.1  100   0.229080\n",
      "59        5          7    0.1    1   0.246857\n",
      "20       30         50    0.1   50   0.264492\n",
      "9         5         75    0.1  100   0.277444\n",
      "10        5         50    0.5  100   0.288684\n",
      "8         5         75    0.1  100   0.327808\n",
      "1        30         50    0.1  100   0.342338\n",
      "57        5         15    0.1    1   0.362842\n",
      "40        5         30    0.5   10   0.377421\n",
      "31        5         30    0.1   10   0.380637\n",
      "56        5         15    0.1    1   0.431055\n",
      "32        5         15    0.1   10   0.436585\n",
      "..      ...        ...    ...  ...        ...\n",
      "61        5          3    0.5    1   0.531745\n",
      "51        5         15    0.5    1   0.548740\n",
      "34        5         15    0.5   10   0.549251\n",
      "45       30         50    0.1    1   0.565492\n",
      "37        5         15    1.0   10   0.587489\n",
      "49        5         30    0.5    1   0.588628\n",
      "60        5          3    0.5    1   0.599294\n",
      "52        5          7    0.5    1   0.604990\n",
      "53        5          7    0.5    1   0.627887\n",
      "30        5         30    0.1   10   0.646873\n",
      "41        5         30    0.5   10   0.666460\n",
      "33        5         15    0.1   10   0.696355\n",
      "38        5         15    2.0   10   0.735630\n",
      "36        5         15    1.0   10   0.750890\n",
      "55        5          7    1.0    1   0.753969\n",
      "50        5         15    0.5    1   0.780922\n",
      "27       15         50    0.1   10   0.807307\n",
      "54        5          7    1.0    1   0.815141\n",
      "29        5         50    0.1   10   0.816020\n",
      "35        5         15    0.5   10   0.845365\n",
      "24       30         50    0.1   10   0.855535\n",
      "39        5         15    2.0   10   0.861102\n",
      "28        5         50    0.1   10   0.871974\n",
      "25       30         50    0.1   10   0.874529\n",
      "46        5         50    0.1    1   0.904614\n",
      "26       15         50    0.1   10   0.936318\n",
      "47        5         50    0.1    1   0.940109\n",
      "42        5          7    0.5   10   1.000000\n",
      "43        5          7    0.5   10   1.000000\n",
      "44       30         50    0.1    1   1.000000\n",
      "\n",
      "[62 rows x 5 columns]\n"
     ]
    }
   ],
   "source": [
    "print(adf)\n",
    "\n",
    "sortedadf = adf.sort_values('Alignment')\n",
    "print('\\n\\nAnd the winner is...\\n')\n",
    "print(sortedadf)\n",
    "\n",
    "#best = adf.loc[adf['Alignment'] == np.min(adf['Alignment'])]\n",
    "#print('\\n\\nAnd the winner is...\\n')\n",
    "#print(best)\n",
    "#minVec = np.array(adf['Alignment'])\n",
    "#minVec = np.delete(minVec, np.where(minVec == np.min(minVec)))\n",
    "#second = adf.loc[adf['Alignment'] == np.min(minVec)]\n",
    "#print('\\n\\nSecond place to\\n')\n",
    "#print(second)\n",
    "\n",
    "#minVec = np.delete(minVec, np.where(minVec == np.min(minVec)))\n",
    "#third = adf.loc[adf['Alignment'] == np.min(minVec)]\n",
    "#print('\\n\\nThird place to\\n')\n",
    "#print(third)"
   ]
  },
  {
   "cell_type": "code",
   "execution_count": 10,
   "metadata": {},
   "outputs": [
    {
     "name": "stdout",
     "output_type": "stream",
     "text": [
      "   GapSize  InkAmount  Speed   PS  Alignment\n",
      "0        5          7    0.1    1   0.246857\n",
      "1        5         15    0.1    1   0.362842\n",
      "2        5         30    0.5   10   0.377421\n",
      "3        5         30    0.1   10   0.380637\n",
      "4        5         30    0.1   50   0.114206\n",
      "5       15         75    0.1   50   0.128088\n",
      "6        5         50    0.1  100   0.112497\n",
      "7        5         30    0.1  100   0.112590\n"
     ]
    }
   ],
   "source": [
    "PSvec = [1, 10, 50, 100]\n",
    "DF = pd.DataFrame()\n",
    "\n",
    "for ps in PSvec:\n",
    "    nadf = adf.loc[adf['PS'] == ps]\n",
    "    \n",
    "    best = nadf.loc[adf['Alignment'] == np.min(nadf['Alignment'])]\n",
    "    DF = DF.append(best, ignore_index=True)\n",
    "    \n",
    "    minVec = np.array(nadf['Alignment'])\n",
    "    minVec = np.delete(minVec, np.where(minVec == np.min(minVec)))\n",
    "    second = nadf.loc[nadf['Alignment'] == np.min(minVec)]\n",
    "    DF = DF.append(second, ignore_index=True)\n",
    "\n",
    "#DF = DF.set_index('Name')\n",
    "print(DF)"
   ]
  },
  {
   "cell_type": "code",
   "execution_count": 17,
   "metadata": {},
   "outputs": [
    {
     "data": {
      "image/png": "[encoded data removed]",
      "text/plain": [
       "<Figure size 720x504 with 1 Axes>"
      ]
     },
     "metadata": {
      "needs_background": "light"
     },
     "output_type": "display_data"
    }
   ],
   "source": [
    "plt.figure(figsize=(10,7))\n",
    "plt.scatter(DF.index.values, DF['Alignment'],  marker='^', s=300)\n",
    "my_xticks = DF['PS']\n",
    "plt.xticks(DF.index.values, my_xticks, rotation=60, fontsize=16)\n",
    "plt.yticks(fontsize=16)\n",
    "plt.title('Alignment factors', fontsize=20)\n",
    "plt.xlabel('PS concentration ($g/l$)', fontsize=15)\n",
    "i = 0\n",
    "for x in DF.index.values:\n",
    "    s = '[%d %d %.2g]' % (DF['GapSize'][x], DF['InkAmount'][x], DF['Speed'][x])\n",
    "    if i % 2 == 0:\n",
    "        de = 0.02\n",
    "    else: de = -0.01\n",
    "    plt.text(x - 0.4, DF['Alignment'][x] - de, s, fontsize=12)\n",
    "    i += 1\n",
    "plt.grid()\n",
    "plt.savefig('figures/AlignFactorPS1.png')\n",
    "plt.show()\n"
   ]
  },
  {
   "cell_type": "code",
   "execution_count": null,
   "metadata": {},
   "outputs": [],
   "source": []
  }
 ],
 "metadata": {
  "kernelspec": {
   "display_name": "Python 3",
   "language": "python",
   "name": "python3"
  },
  "language_info": {
   "codemirror_mode": {
    "name": "ipython",
    "version": 3
   },
   "file_extension": ".py",
   "mimetype": "text/x-python",
   "name": "python",
   "nbconvert_exporter": "python",
   "pygments_lexer": "ipython3",
   "version": "3.7.3"
  }
 },
 "nbformat": 4,
 "nbformat_minor": 2
}
