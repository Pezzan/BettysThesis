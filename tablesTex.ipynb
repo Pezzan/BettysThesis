{
 "cells": [
  {
   "cell_type": "code",
   "execution_count": 2,
   "metadata": {},
   "outputs": [],
   "source": [
    "import dill\n",
    "import pickle\n",
    "import numpy as np\n",
    "import pandas as pd"
   ]
  },
  {
   "cell_type": "code",
   "execution_count": 3,
   "metadata": {},
   "outputs": [],
   "source": [
    "elementsVec = ['123TCB_CB', '135TBB_CB', '135TCB_2dec',\n",
    "               '135TCB_2oct', '135TCB_4eth', '135TCB_CB',\n",
    "               '135TCB_chcl3', '135TCB_diheth', '1234TCB_CB',\n",
    "               '1245TCB_CB', 'HMB_CB']"
   ]
  },
  {
   "cell_type": "code",
   "execution_count": 6,
   "metadata": {},
   "outputs": [],
   "source": [
    "folder = 'For_ANALYSIS/'\n",
    "\n",
    "for name in elementsVec:\n",
    "    dill.load_session('For_ANALYSIS/notebook_' + name + '.db')\n",
    "    tempdf = pickle.load(open('AlignmentDataFrames.p','rb'))\n",
    "    \n",
    "    tempdf[name]['Alignment'] = AlignVec[0:len(tempdf[name]['GapSize'])]\n",
    "    adf = tempdf[name]\n",
    "    \n",
    "    with open(folder + name + '.tex','w') as tf:\n",
    "        tf.write(adf.to_latex())\n",
    "        \n",
    "    break"
   ]
  },
  {
   "cell_type": "code",
   "execution_count": null,
   "metadata": {},
   "outputs": [],
   "source": []
  }
 ],
 "metadata": {
  "kernelspec": {
   "display_name": "Python 3",
   "language": "python",
   "name": "python3"
  },
  "language_info": {
   "codemirror_mode": {
    "name": "ipython",
    "version": 3
   },
   "file_extension": ".py",
   "mimetype": "text/x-python",
   "name": "python",
   "nbconvert_exporter": "python",
   "pygments_lexer": "ipython3",
   "version": "3.7.3"
  }
 },
 "nbformat": 4,
 "nbformat_minor": 2
}
